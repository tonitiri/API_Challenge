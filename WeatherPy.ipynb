{
 "cells": [
  {
   "cell_type": "markdown",
   "metadata": {},
   "source": [
    "# WeatherPy\n",
    "----\n",
    "\n",
    "#### Note\n",
    "* Instructions have been included for each segment. You do not have to follow them exactly, but they are included to help you think through the steps."
   ]
  },
  {
   "cell_type": "code",
   "execution_count": null,
   "metadata": {
    "scrolled": true
   },
   "outputs": [],
   "source": [
    "# Dependencies and Setup\n",
    "import matplotlib.pyplot as plt\n",
    "import pandas as pd\n",
    "import numpy as np\n",
    "import requests\n",
    "import time\n",
    "\n",
    "# Import API key\n",
    "from api_keys import api_key\n",
    "\n",
    "# Incorporated citipy to determine city based on latitude and longitude\n",
    "from citipy import citipy\n",
    "\n",
    "# Output File (CSV)\n",
    "output_data_file = \"output_data/cities.csv\"\n",
    "\n",
    "# Range of latitudes and longitudes\n",
    "lat_range = (-90, 90)\n",
    "lng_range = (-180, 180)"
   ]
  },
  {
   "cell_type": "markdown",
   "metadata": {},
   "source": [
    "## Generate Cities List"
   ]
  },
  {
   "cell_type": "code",
   "execution_count": null,
   "metadata": {},
   "outputs": [],
   "source": [
    "# List for holding lat_lngs and cities\n",
    "lat_lngs = []\n",
    "cities = []\n",
    "\n",
    "# Create a set of random lat and lng combinations\n",
    "lats = np.random.uniform(low=-90.000, high=90.000, size=1500)\n",
    "lngs = np.random.uniform(low=-180.000, high=180.000, size=1500)\n",
    "lat_lngs = zip(lats, lngs)\n",
    "\n",
    "# Identify nearest city for each lat, lng combination\n",
    "for lat_lng in lat_lngs:\n",
    "    city = citipy.nearest_city(lat_lng[0], lat_lng[1]).city_name\n",
    "    \n",
    "    # If the city is unique, then add it to a our cities list\n",
    "    if city not in cities:\n",
    "        cities.append(city)\n",
    "\n",
    "# Print the city count to confirm sufficient count\n",
    "len(cities)"
   ]
  },
  {
   "cell_type": "markdown",
   "metadata": {},
   "source": [
    "### Perform API Calls\n",
    "* Perform a weather check on each city using a series of successive API calls.\n",
    "* Include a print log of each city as it'sbeing processed (with the city number and city name).\n"
   ]
  },
  {
   "cell_type": "code",
   "execution_count": null,
   "metadata": {},
   "outputs": [],
   "source": [
    "# Save config information.\n",
    "url = \"http://api.openweathermap.org/data/2.5/weather?\"\n",
    "units = \"metric\"\n",
    "\n",
    "# Build partial query URL\n",
    "query_url = f\"{url}appid={api_key}&units={units}&q=\"\n",
    "\n",
    "#create empty lists for weather data\n",
    "city_name =[]\n",
    "lat=[]\n",
    "lng=[]\n",
    "cloudiness=[]\n",
    "countries=[]\n",
    "date=[]\n",
    "humidity=[]\n",
    "speed=[]\n",
    "temp_max=[]\n",
    "\n",
    "record = 1\n",
    "print(len(cities))\n",
    "print(f\"Beginning Data Retrieval\")\n",
    "print(f\"------------------------\")\n",
    "\n",
    "# Loop through the list of cities and perform a request for data on each\n",
    "for city in cities:\n",
    "    #print(f\"Processing Record {record}|{city_record}\")\n",
    "        \n",
    "    response = requests.get(query_url + city).json()\n",
    "    print(f\"{query_url}&q={city}\")\n",
    "    try:\n",
    "        city_name.append(response['name'])\n",
    "        lat.append(response['coord']['lat'])\n",
    "        lng.append(response['coord']['lon'])\n",
    "        cloudiness.append(response['clouds']['all'])\n",
    "        countries.append(response['sys']['country'])\n",
    "        date.append(response['dt'])\n",
    "        humidity.append(response['main']['humidity'])\n",
    "        speed.append(response['wind']['speed'])\n",
    "        temp_max.append(response['main']['temp_max'])\n",
    "        \n",
    "       \n",
    "        \n",
    "        record = record + 1\n",
    "        \n",
    "    except:\n",
    "        print(f\"City {city} not found. Skipping...\")\n",
    "    #continue\n",
    "    \n",
    "    \n",
    "    \n",
    "print(f\"------------------------------------------------\")\n",
    "print(f\"Data Retrieval Complete\")\n",
    "print(f\"------------------------------------------------\")\n",
    "\n"
   ]
  },
  {
   "cell_type": "markdown",
   "metadata": {},
   "source": [
    "### Convert Raw Data to DataFrame\n",
    "* Export the city data into a .csv.\n",
    "* Display the DataFrame"
   ]
  },
  {
   "cell_type": "code",
   "execution_count": null,
   "metadata": {},
   "outputs": [],
   "source": [
    "# create a data frame \n",
    "weather_dict = {\n",
    "    \"city\": city_name,\n",
    "    \"lat\": lat,\n",
    "    \"lng\": lng,\n",
    "    \"Cloudiness\": cloudiness,\n",
    "    \"Country\": countries,\n",
    "    \"Date\": date,\n",
    "    \"Humidity\": humidity,\n",
    "    \"Windspeed\": speed,\n",
    "    \"Max temp\": temp_max\n",
    "}\n",
    "weather_data = pd.DataFrame(weather_dict)\n",
    "weather_data.head()\n",
    "\n"
   ]
  },
  {
   "cell_type": "code",
   "execution_count": null,
   "metadata": {},
   "outputs": [],
   "source": [
    "#Export dataframe to CSV\n",
    "weather_data.to_csv( \"weather_py.csv\")"
   ]
  },
  {
   "cell_type": "code",
   "execution_count": null,
   "metadata": {},
   "outputs": [],
   "source": [
    "#define data - Latitude Vs Temp\n",
    "x1 = weather_data['lat']\n",
    "y1 = weather_data['Max temp']\n",
    "\n",
    "\n",
    "plt.ylabel('Maximum Temperature')\n",
    "plt.xlabel('Latitude')\n",
    "plt.title('City Latitude Vs. Max Temp (08/24/19)')\n",
    "\n",
    "\n",
    "plt.scatter(x1, y1, marker='o', alpha=1, edgecolors='black')\n",
    "\n",
    "plt.grid(True)\n",
    "# plt.savefig(\"C:\\\\Users\\\\taiwo\\\\OneDrive\\\\Desktop\\\\Working\\\\02-Homework\\\\06-Python-APIs\\\\Instructions\\\\starter_code\\\\Temp.png\")\n",
    "\n",
    "plt.show()"
   ]
  },
  {
   "cell_type": "markdown",
   "metadata": {},
   "source": [
    "### Plotting the Data\n",
    "* Use proper labeling of the plots using plot titles (including date of analysis) and axes labels.\n",
    "* Save the plotted figures as .pngs."
   ]
  },
  {
   "cell_type": "markdown",
   "metadata": {},
   "source": [
    "#### Latitude vs. Temperature Plot"
   ]
  },
  {
   "cell_type": "code",
   "execution_count": null,
   "metadata": {},
   "outputs": [],
   "source": [
    "#define data - Latitude Vs Humidity\n",
    "x1 = weather_data['lat']\n",
    "y1 = weather_data['Humidity']\n",
    "\n",
    "\n",
    "plt.ylabel('Humidity')\n",
    "plt.xlabel('Latitude')\n",
    "plt.title('City Latitude Vs. Humidity (08/24/19)')\n",
    "\n",
    "\n",
    "plt.scatter(x1, y1, marker='o', alpha=1, edgecolors='black')\n",
    "\n",
    "plt.grid(True)\n",
    "# plt.savefig(\"C:\\\\Users\\\\taiwo\\\\OneDrive\\\\Desktop\\\\Working\\\\02-Homework\\\\06-Python-APIs\\\\Instructions\\\\starter_code\\\\Humidity.png\")\n",
    "plt.show()"
   ]
  },
  {
   "cell_type": "markdown",
   "metadata": {},
   "source": [
    "#### Latitude vs. Humidity Plot"
   ]
  },
  {
   "cell_type": "code",
   "execution_count": null,
   "metadata": {},
   "outputs": [],
   "source": [
    "#define data - Latitude Vs Cloudiness\n",
    "x1 = weather_data['lat']\n",
    "y1 = weather_data['Cloudiness']\n",
    "\n",
    "\n",
    "plt.ylabel('Cloudiness')\n",
    "plt.xlabel('Latitude')\n",
    "plt.title('City Latitude Vs. Cloudiness (08/24/19)')\n",
    "\n",
    "\n",
    "plt.scatter(x1, y1, marker='o', alpha=1, edgecolors='black')\n",
    "\n",
    "plt.grid(True)\n",
    "# plt.savefig(\"C:\\\\Users\\\\taiwo\\\\OneDrive\\\\Desktop\\\\Working\\\\02-Homework\\\\06-Python-APIs\\\\Instructions\\\\starter_code\\\\Cloudiness.png\")\n",
    "plt.show()"
   ]
  },
  {
   "cell_type": "markdown",
   "metadata": {},
   "source": [
    "#### Latitude vs. Cloudiness Plot"
   ]
  },
  {
   "cell_type": "code",
   "execution_count": null,
   "metadata": {},
   "outputs": [],
   "source": [
    "#define data - Latitude Vs Wind Speed\n",
    "x1 = weather_data['lat']\n",
    "y1 = weather_data['Windspeed']\n",
    "\n",
    "\n",
    "plt.ylabel('Windspeed (mph)')\n",
    "plt.xlabel('Latitude')\n",
    "plt.title('City Latitude Vs. Windspeed (08/24/19)')\n",
    "\n",
    "\n",
    "plt.scatter(x1, y1, marker='o', alpha=1, edgecolors='black')\n",
    "\n",
    "plt.grid(True)\n",
    "# plt.savefig(\"C:\\\\Users\\\\taiwo\\\\OneDrive\\\\Desktop\\\\Working\\\\02-Homework\\\\06-Python-APIs\\\\Instructions\\\\starter_code\\\\Windspeed.png\")\n",
    "plt.show()"
   ]
  },
  {
   "cell_type": "markdown",
   "metadata": {},
   "source": [
    "#### Latitude vs. Wind Speed Plot"
   ]
  },
  {
   "cell_type": "markdown",
   "metadata": {},
   "source": [
    "#OBSERVABLE TRENDS\n",
    "#1. No city in the range exceeds 40 as maximum temperature\n",
    "#2. Only One city in the range is an outlier with an exceptional humidity above 300\n",
    "#3. Maximum cloudiness for all cities in the range is 100\n"
   ]
  },
  {
   "cell_type": "code",
   "execution_count": null,
   "metadata": {},
   "outputs": [],
   "source": []
  }
 ],
 "metadata": {
  "anaconda-cloud": {},
  "kernel_info": {
   "name": "python3"
  },
  "kernelspec": {
   "display_name": "Python 3",
   "language": "python",
   "name": "python3"
  },
  "language_info": {
   "codemirror_mode": {
    "name": "ipython",
    "version": 3
   },
   "file_extension": ".py",
   "mimetype": "text/x-python",
   "name": "python",
   "nbconvert_exporter": "python",
   "pygments_lexer": "ipython3",
   "version": "3.7.3"
  },
  "nteract": {
   "version": "0.12.3"
  }
 },
 "nbformat": 4,
 "nbformat_minor": 2
}
